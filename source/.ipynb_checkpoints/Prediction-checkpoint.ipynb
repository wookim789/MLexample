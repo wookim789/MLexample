{
 "cells": [
  {
   "cell_type": "code",
   "execution_count": 6,
   "metadata": {},
   "outputs": [],
   "source": [
    "import numpy as np\n",
    "import pandas as pd\n",
    "import mglearn\n",
    "import matplotlib.pyplot as plt\n",
    "\n",
    "from sklearn.datasets import load_iris\n",
    "from sklearn.model_selection import train_test_split\n",
    "# KNN 알고리즘 이용하기\n",
    "from sklearn.neighbors import KNeighborsClassifier\n",
    "# knn을 쓰기 위해서는  KNeighborClassifier클래스의 객체를 만들어야함. 그리고 파라미터 K값을 받음\n",
    "knn = KNeighborsClassifier(n_neighbors = 1) #1 의 값은 K을 의미함\n",
    "\n",
    "iris_dataset = load_iris()\n",
    "#randaom_state로 train, test 데이터 셋을 랜덤하게 선정 -> 데이터가 균일하게 정렬되어 있어 고르게 학습 시키기 위해 데이터를 섞어 씀\n",
    "X_train, X_test, y_train, y_test = train_test_split(iris_dataset['data'],iris_dataset['target'],random_state=0)"
   ]
  },
  {
   "cell_type": "code",
   "execution_count": 7,
   "metadata": {},
   "outputs": [
    {
     "data": {
      "text/plain": [
       "KNeighborsClassifier(algorithm='auto', leaf_size=30, metric='minkowski',\n",
       "           metric_params=None, n_jobs=1, n_neighbors=1, p=2,\n",
       "           weights='uniform')"
      ]
     },
     "execution_count": 7,
     "metadata": {},
     "output_type": "execute_result"
    }
   ],
   "source": [
    "knn.fit(X_train,y_train)"
   ]
  },
  {
   "cell_type": "code",
   "execution_count": 8,
   "metadata": {},
   "outputs": [
    {
     "data": {
      "text/plain": [
       "KNeighborsClassifier(algorithm='auto', leaf_size=30, metric='minkowski',\n",
       "           metric_params=None, n_jobs=1, n_neighbors=1, p=2,\n",
       "           weights='uniform')"
      ]
     },
     "execution_count": 8,
     "metadata": {},
     "output_type": "execute_result"
    }
   ],
   "source": [
    "KNeighborsClassifier(algorithm=\"auto\", leaf_size=30, metric='minkowski', metric_params=None, n_jobs=1, n_neighbors=1, p=2, weights='uniform')"
   ]
  },
  {
   "cell_type": "code",
   "execution_count": 9,
   "metadata": {},
   "outputs": [
    {
     "name": "stdout",
     "output_type": "stream",
     "text": [
      "X_new.shape :(1, 4)\n"
     ]
    }
   ],
   "source": [
    "#fit메서드는 knn 객체 자체를 반환 (그리고 knn 객체 자체를 변경) -> knn 객체가 문자열 형태로 출력\n",
    "\n",
    "#예측하기 \n",
    "#데이터를 학습한 knn 객체를 이용해 새로운 데이터포인트를 에측해보자\n",
    "X_new = np.array([[5,2.9,1,0.2]])\n",
    "print(\"X_new.shape :{}\".format(X_new.shape))"
   ]
  },
  {
   "cell_type": "code",
   "execution_count": 10,
   "metadata": {},
   "outputs": [
    {
     "name": "stdout",
     "output_type": "stream",
     "text": [
      "예측 : [0]\n",
      "예측한 타깃의 이름 : ['setosa']\n"
     ]
    }
   ],
   "source": [
    "prediction = knn.predict(X_new)\n",
    "print(\"예측 : {}\".format(prediction))\n",
    "print(\"예측한 타깃의 이름 : {}\".format(\n",
    "    iris_dataset['target_names'][prediction]))"
   ]
  },
  {
   "cell_type": "code",
   "execution_count": null,
   "metadata": {},
   "outputs": [],
   "source": [
    "#예측은 성공했으나 예측이 정말 맞을까?\n",
    "#해당 데이터의 품종을 모른다는 사실이 모델을 구축하는 데 있어서 중요한 의미를 갖는다."
   ]
  }
 ],
 "metadata": {
  "kernelspec": {
   "display_name": "Python 3",
   "language": "python",
   "name": "python3"
  },
  "language_info": {
   "codemirror_mode": {
    "name": "ipython",
    "version": 3
   },
   "file_extension": ".py",
   "mimetype": "text/x-python",
   "name": "python",
   "nbconvert_exporter": "python",
   "pygments_lexer": "ipython3",
   "version": "3.6.5"
  }
 },
 "nbformat": 4,
 "nbformat_minor": 2
}
