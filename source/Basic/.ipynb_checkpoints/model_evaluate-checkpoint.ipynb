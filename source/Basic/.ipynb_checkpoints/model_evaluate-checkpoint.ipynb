{
 "cells": [
  {
   "cell_type": "code",
   "execution_count": 2,
   "metadata": {},
   "outputs": [
    {
     "name": "stdout",
     "output_type": "stream",
     "text": [
      "테스트 세트에 대한 예측값 : \n",
      " [2 1 0 2 0 2 0 1 1 1 2 1 1 1 1 0 1 1 0 0 2 1 0 0 2 0 0 1 1 0 2 1 0 2 2 1 0\n",
      " 2]\n",
      "테스트 세트의 정확도 : 0.97\n"
     ]
    }
   ],
   "source": [
    "#기존에 나누었던 data의 test로 모델 평가하기\n",
    "import numpy as np\n",
    "import pandas as pd\n",
    "import mglearn\n",
    "import matplotlib.pyplot as plt\n",
    "\n",
    "from sklearn.datasets import load_iris\n",
    "from sklearn.model_selection import train_test_split\n",
    "# KNN 알고리즘 이용하기\n",
    "from sklearn.neighbors import KNeighborsClassifier\n",
    "# knn을 쓰기 위해서는  KNeighborClassifier클래스의 객체를 만들어야함. 그리고 파라미터 K값을 받음\n",
    "knn = KNeighborsClassifier(n_neighbors = 1) #1 의 값은 K을 의미함\n",
    "\n",
    "iris_dataset = load_iris()\n",
    "#randaom_state로 train, test 데이터 셋을 랜덤하게 선정 -> 데이터가 균일하게 정렬되어 있어 고르게 학습 시키기 위해 데이터를 섞어 씀\n",
    "X_train, X_test, y_train, y_test = train_test_split(iris_dataset['data'],iris_dataset['target'],random_state=0)\n",
    "\n",
    "knn.fit(X_train,y_train)\n",
    "\n",
    "KNeighborsClassifier(algorithm=\"auto\", leaf_size=30, metric='minkowski', metric_params=None, n_jobs=1, n_neighbors=1, p=2, weights='uniform')\n",
    "\n",
    "y_pred = knn.predict(X_test)\n",
    "print(\"테스트 세트에 대한 예측값 : \\n {}\".format(y_pred))\n",
    "print(\"테스트 세트의 정확도 : {:.2f}\".format(knn.score(X_test,y_test)))"
   ]
  },
  {
   "cell_type": "code",
   "execution_count": null,
   "metadata": {},
   "outputs": [],
   "source": [
    "#정리하면 3가지 fit, predict, score 3가지. 해당 메소드는 scikitLearn에 다른 종류의 지도 학습 모델에도 있음."
   ]
  }
 ],
 "metadata": {
  "kernelspec": {
   "display_name": "Python 3",
   "language": "python",
   "name": "python3"
  },
  "language_info": {
   "codemirror_mode": {
    "name": "ipython",
    "version": 3
   },
   "file_extension": ".py",
   "mimetype": "text/x-python",
   "name": "python",
   "nbconvert_exporter": "python",
   "pygments_lexer": "ipython3",
   "version": "3.6.5"
  }
 },
 "nbformat": 4,
 "nbformat_minor": 2
}
