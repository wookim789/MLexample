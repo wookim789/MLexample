{
 "cells": [
  {
   "cell_type": "markdown",
   "metadata": {},
   "source": [
    "# naive bayes 나이브 베이즈 분류기\n",
    "\n",
    "## 특징\n",
    "### 1. logisticRegression이나 linearSVC 같은 선형 분류기보다 훈련속도 빠름\n",
    "### 2. 위 의 선형 분류기 보다 일반화 성능이 조금 떨어짐\n",
    "\n",
    "## 사용이유\n",
    "### 1. 각 feature를 개별로 취급해 파라미터를 학습\n",
    "### 2. 각 feature에서 클래스별 통계를 단순하게 취합함\n",
    "\n",
    "# 선형모델과 비슷하나 데이터셋이 매우 클 때 예측 속도를 빠르게 하기 위해 종종 사용\n"
   ]
  }
 ],
 "metadata": {
  "kernelspec": {
   "display_name": "Python 3",
   "language": "python",
   "name": "python3"
  },
  "language_info": {
   "codemirror_mode": {
    "name": "ipython",
    "version": 3
   },
   "file_extension": ".py",
   "mimetype": "text/x-python",
   "name": "python",
   "nbconvert_exporter": "python",
   "pygments_lexer": "ipython3",
   "version": "3.6.5"
  }
 },
 "nbformat": 4,
 "nbformat_minor": 2
}
