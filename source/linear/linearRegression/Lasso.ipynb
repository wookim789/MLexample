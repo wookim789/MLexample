{
 "cells": [
  {
   "cell_type": "markdown",
   "metadata": {},
   "source": [
    "### Lasso"
   ]
  },
  {
   "cell_type": "code",
   "execution_count": 4,
   "metadata": {},
   "outputs": [
    {
     "name": "stdout",
     "output_type": "stream",
     "text": [
      "train set score : 0.29\n",
      "test set score : 0.209375\n",
      "use feature number : 4\n"
     ]
    }
   ],
   "source": [
    "#lasso -> ridge와 비슷한 맥락이나 차이점은 많은 W * x 중 w를 0으로 만들어 feature를 지운다. -> 모델에 영향을 가하는 feature 지우기\n",
    "import mglearn\n",
    "import matplotlib.pyplot as plt\n",
    "import numpy as np\n",
    "from sklearn.model_selection import train_test_split\n",
    "from sklearn.linear_model import Lasso\n",
    "\n",
    "x,y = mglearn.datasets.load_extended_boston()\n",
    "x_train, x_test, y_train, y_test = train_test_split(x, y, random_state=0)\n",
    "\n",
    "lasso = Lasso().fit(x_train,y_train)\n",
    "print(\"train set score : {:.2f}\".format(lasso.score(x_train,y_train)))\n",
    "print(\"test set score : {:2f}\".format(lasso.score(x_test,y_test)))\n",
    "print(\"use feature number : {}\".format(np.sum(lasso.coef_!=0)))\n"
   ]
  },
  {
   "cell_type": "code",
   "execution_count": 5,
   "metadata": {},
   "outputs": [
    {
     "name": "stdout",
     "output_type": "stream",
     "text": [
      "train set score : 0.90\n",
      "test set score : 0.765649\n",
      "use feature number : 33\n"
     ]
    }
   ],
   "source": [
    "#t성능이 좋지 않은 lasso를 좋게 하기 위해선 alpha 값과 max_iter(반복 실행하는 최대 횟수)를 증가시킨다\n",
    "import mglearn\n",
    "import matplotlib.pyplot as plt\n",
    "import numpy as np\n",
    "from sklearn.model_selection import train_test_split\n",
    "from sklearn.linear_model import Lasso\n",
    "\n",
    "x,y = mglearn.datasets.load_extended_boston()\n",
    "x_train, x_test, y_train, y_test = train_test_split(x, y, random_state=0)\n",
    "\n",
    "lasso = Lasso(alpha=0.01, max_iter=100000).fit(x_train,y_train)\n",
    "print(\"train set score : {:.2f}\".format(lasso.score(x_train,y_train)))\n",
    "print(\"test set score : {:2f}\".format(lasso.score(x_test,y_test)))\n",
    "print(\"use feature number : {}\".format(np.sum(lasso.coef_!=0)))"
   ]
  },
  {
   "cell_type": "code",
   "execution_count": 24,
   "metadata": {},
   "outputs": [
    {
     "data": {
      "image/png": "[encoded data removed]",
      "text/plain": [
       "<Figure size 1080x288 with 3 Axes>"
      ]
     },
     "metadata": {},
     "output_type": "display_data"
    }
   ],
   "source": [
    "import mglearn\n",
    "import matplotlib.pyplot as plt\n",
    "import numpy as np\n",
    "from sklearn.model_selection import train_test_split\n",
    "from sklearn.linear_model import Lasso\n",
    "\n",
    "x,y = mglearn.datasets.load_extended_boston()\n",
    "x_train, x_test, y_train, y_test = train_test_split(x, y, random_state=0)\n",
    "\n",
    "lasso = Lasso().fit(x_train,y_train)\n",
    "lasso0001 = Lasso(alpha = 0.001, max_iter =1000000).fit(x_train, y_train)\n",
    "lasso001 = Lasso(alpha=0.1, max_iter=100000).fit(x_train,y_train)\n",
    "\n",
    "fig, axes = plt.subplots(1,3,figsize=(15,4)) #subplots(열로 배열할 그림수, 행으로 배열 할 그림수, figsize = 그림크기 (x,y))\n",
    "j = 1\n",
    "\n",
    "list = [lasso,lasso001,lasso0001]\n",
    "for i,ax in zip(list,axes):\n",
    "    ax.plot(i.coef_,\"^\", label = \"lasso alpha =\"+str(j))\n",
    "    j /=10\n",
    "    ax.set_xlabel(\"Coefficient list\")#계수 목록\n",
    "    ax.set_ylabel(\"Coefficient size\")#계수 크기\n",
    "    ax.hlines(0,0,len(i.coef_))\n",
    "    ax.set_ylim(-25,25)\n",
    "\n",
    "    ax.legend()\n"
   ]
  },
  {
   "cell_type": "markdown",
   "metadata": {},
   "source": [
    "#### * 보통 릿지 회귀가 선호 되나 특성이 많고 그중 중요한 특성이 한정적일 때는 라쏘"
   ]
  },
  {
   "cell_type": "code",
   "execution_count": null,
   "metadata": {},
   "outputs": [],
   "source": []
  }
 ],
 "metadata": {
  "kernelspec": {
   "display_name": "Python 3",
   "language": "python",
   "name": "python3"
  },
  "language_info": {
   "codemirror_mode": {
    "name": "ipython",
    "version": 3
   },
   "file_extension": ".py",
   "mimetype": "text/x-python",
   "name": "python",
   "nbconvert_exporter": "python",
   "pygments_lexer": "ipython3",
   "version": "3.6.5"
  }
 },
 "nbformat": 4,
 "nbformat_minor": 2
}
