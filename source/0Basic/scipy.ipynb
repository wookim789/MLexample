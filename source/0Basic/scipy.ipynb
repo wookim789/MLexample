{
 "cells": [
  {
   "cell_type": "code",
   "execution_count": 2,
   "metadata": {},
   "outputs": [
    {
     "name": "stdout",
     "output_type": "stream",
     "text": [
      "Numpy 배열 : \n",
      "[[1. 0. 0. 0.]\n",
      " [0. 1. 0. 0.]\n",
      " [0. 0. 1. 0.]\n",
      " [0. 0. 0. 1.]]\n",
      "\n",
      "=============================================\n",
      "Scipy의 CSR 행렬 : \n",
      "  (0, 0)\t1.0\n",
      "  (1, 1)\t1.0\n",
      "  (2, 2)\t1.0\n",
      "  (3, 3)\t1.0\n",
      "coo표현 : \n",
      "  (0, 0)\t1.0\n",
      "  (1, 1)\t1.0\n",
      "  (2, 2)\t1.0\n",
      "  (3, 3)\t1.0\n"
     ]
    }
   ],
   "source": [
    "import numpy as np\n",
    "from scipy import sparse\n",
    "\n",
    "#단위행렬인 넘파이 배열 생성\n",
    "eye = np.eye(4)\n",
    "print(\"Numpy 배열 : \\n{}\".format(eye))\n",
    "\n",
    "\n",
    "print(\"\\n=============================================\")\n",
    "\n",
    "#넘파이 배열을 CSR(Compressed row storage)포맷의 Scipy 희소 행렬로 변환. 0이 아닌 원소만 저장. (행의 인덱스를 압추하여 저장)\n",
    "sparse_matrix = sparse.csr_matrix(eye)\n",
    "print(\"Scipy의 CSR 행렬 : \\n{}\".format(sparse_matrix))\n",
    "\n",
    "\n",
    "#COO(Coordinate 데이터가 놓일 행렬의 위치를 별도의 매개변수로 전달)포맷을 이용해 희소행력 직접 만들기\n",
    "data = np.ones(4)\n",
    "row_indices = np.arange(4)\n",
    "col_indices = np.arange(4)\n",
    "eye_coo = sparse.coo_matrix((data,(row_indices,col_indices)))\n",
    "print(\"coo표현 : \\n{}\".format(eye_coo))"
   ]
  },
  {
   "cell_type": "code",
   "execution_count": null,
   "metadata": {},
   "outputs": [],
   "source": []
  }
 ],
 "metadata": {
  "kernelspec": {
   "display_name": "Python 3",
   "language": "python",
   "name": "python3"
  },
  "language_info": {
   "codemirror_mode": {
    "name": "ipython",
    "version": 3
   },
   "file_extension": ".py",
   "mimetype": "text/x-python",
   "name": "python",
   "nbconvert_exporter": "python",
   "pygments_lexer": "ipython3",
   "version": "3.6.5"
  }
 },
 "nbformat": 4,
 "nbformat_minor": 2
}
