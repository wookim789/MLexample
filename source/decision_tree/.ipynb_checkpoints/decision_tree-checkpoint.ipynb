{
 "cells": [
  {
   "cell_type": "markdown",
   "metadata": {},
   "source": [
    "# dicision tree\n",
    "결정 트리는 스무고개와 비슷한 머신러닝 기법으로 \n",
    "날개가 있는가? 혹은 다리가 2개 이상인가? 와 같은 물음에 예 아니오로 대답하여 최종 분류값에 다다르는 형태이다.\n",
    "\n",
    "다만 인간처럼 구체적인 질문을 만드는 것이 아니라 feature값이 특정 값 a에 대해 크기 비교를 통해 이루어 진다. (a를 학습하는 것이라 생각하면 될듯?)\n"
   ]
  },
  {
   "cell_type": "code",
   "execution_count": 2,
   "metadata": {},
   "outputs": [
    {
     "name": "stdout",
     "output_type": "stream",
     "text": [
      "train set acc = :1.000\n",
      "test set acc = :0.937\n"
     ]
    }
   ],
   "source": [
    "import mglearn\n",
    "import matplotlib.pyplot as plt\n",
    "from sklearn.model_selection import train_test_split\n",
    "from sklearn.datasets import load_breast_cancer\n",
    "from sklearn.tree import DecisionTreeClassifier\n",
    "\n",
    "cancer = load_breast_cancer()\n",
    "x_train, x_test , y_train, y_test = train_test_split(\n",
    "    cancer.data, cancer.target, stratify = cancer.target, random_state = 42)\n",
    "tree = DecisionTreeClassifier(random_state=0)\n",
    "tree.fit(x_train,y_train)\n",
    "\n",
    "print(\"train set acc = :{:.3f}\".format(tree.score(x_train,y_train)))\n",
    "print(\"test set acc = :{:.3f}\".format(tree.score(x_test,y_test)))"
   ]
  },
  {
   "cell_type": "markdown",
   "metadata": {},
   "source": [
    "결정 트리의 가장 큰 문제는 규제를 하지 않으면 오버핏팅이 된다는 것이다.\n",
    "\n",
    "모든 학습 데이터를 트리로 잘게 잘게 쪼개 버리기 때문에 학습 성능은 굉장히 높으나 일반화가 잘 이루어 지지 않아 오버핏팅이 되는것.\n",
    "\n",
    "이를 해결하기 위해서는 규제를 해주어야 하는데 규제 방법은 다음과 같다.\n",
    "\n",
    "바로 트리의 수를 제한하는 방법."
   ]
  },
  {
   "cell_type": "code",
   "execution_count": 3,
   "metadata": {},
   "outputs": [
    {
     "name": "stdout",
     "output_type": "stream",
     "text": [
      "train set acc = :0.988\n",
      "test set acc = :0.951\n"
     ]
    }
   ],
   "source": [
    "import mglearn\n",
    "import matplotlib.pyplot as plt\n",
    "from sklearn.model_selection import train_test_split\n",
    "from sklearn.datasets import load_breast_cancer\n",
    "from sklearn.tree import DecisionTreeClassifier\n",
    "\n",
    "cancer = load_breast_cancer()\n",
    "x_train, x_test , y_train, y_test = train_test_split(\n",
    "    cancer.data, cancer.target, stratify = cancer.target, random_state = 42)\n",
    "\n",
    "#max_depth를 제한하여 일반화 성능을 올리기\n",
    "tree = DecisionTreeClassifier(max_depth=4,random_state=0)\n",
    "tree.fit(x_train,y_train)\n",
    "\n",
    "print(\"train set acc = :{:.3f}\".format(tree.score(x_train,y_train)))\n",
    "print(\"test set acc = :{:.3f}\".format(tree.score(x_test,y_test)))"
   ]
  },
  {
   "cell_type": "markdown",
   "metadata": {},
   "source": [
    "# 트리 시각화 하기"
   ]
  },
  {
   "cell_type": "code",
   "execution_count": 21,
   "metadata": {},
   "outputs": [
    {
     "ename": "TypeError",
     "evalue": "export_graphviz() got an unexpected keyword argument 'feature_name'",
     "output_type": "error",
     "traceback": [
      "\u001b[0;31m---------------------------------------------------------------------------\u001b[0m",
      "\u001b[0;31mTypeError\u001b[0m                                 Traceback (most recent call last)",
      "\u001b[0;32m<ipython-input-21-0c9a4aed4136>\u001b[0m in \u001b[0;36m<module>\u001b[0;34m()\u001b[0m\n\u001b[1;32m     14\u001b[0m \u001b[0mtree\u001b[0m\u001b[0;34m.\u001b[0m\u001b[0mfit\u001b[0m\u001b[0;34m(\u001b[0m\u001b[0mx_train\u001b[0m\u001b[0;34m,\u001b[0m\u001b[0my_train\u001b[0m\u001b[0;34m)\u001b[0m\u001b[0;34m\u001b[0m\u001b[0m\n\u001b[1;32m     15\u001b[0m \u001b[0;34m\u001b[0m\u001b[0m\n\u001b[0;32m---> 16\u001b[0;31m \u001b[0mexport_graphviz\u001b[0m\u001b[0;34m(\u001b[0m\u001b[0mtree\u001b[0m\u001b[0;34m,\u001b[0m \u001b[0mout_file\u001b[0m \u001b[0;34m=\u001b[0m \u001b[0;34m\"tree.dot\"\u001b[0m\u001b[0;34m,\u001b[0m\u001b[0mclass_names\u001b[0m\u001b[0;34m=\u001b[0m\u001b[0;34m[\u001b[0m\u001b[0;34m\"positive\"\u001b[0m\u001b[0;34m,\u001b[0m\u001b[0;34m\"negative\"\u001b[0m\u001b[0;34m]\u001b[0m\u001b[0;34m,\u001b[0m \u001b[0mfeature_name\u001b[0m \u001b[0;34m=\u001b[0m\u001b[0mcancer\u001b[0m\u001b[0;34m.\u001b[0m\u001b[0mfeature_names\u001b[0m\u001b[0;34m,\u001b[0m                \u001b[0mimpurity\u001b[0m\u001b[0;34m=\u001b[0m\u001b[0;32mFalse\u001b[0m\u001b[0;34m,\u001b[0m\u001b[0mfilled\u001b[0m\u001b[0;34m=\u001b[0m\u001b[0;32mTrue\u001b[0m\u001b[0;34m)\u001b[0m\u001b[0;34m\u001b[0m\u001b[0m\n\u001b[0m",
      "\u001b[0;31mTypeError\u001b[0m: export_graphviz() got an unexpected keyword argument 'feature_name'"
     ]
    }
   ],
   "source": [
    "import mglearn\n",
    "import matplotlib.pyplot as plt\n",
    "from sklearn.model_selection import train_test_split\n",
    "from sklearn.datasets import load_breast_cancer\n",
    "from sklearn.tree import DecisionTreeClassifier\n",
    "from sklearn.tree import export_graphviz\n",
    "\n",
    "cancer = load_breast_cancer()\n",
    "x_train, x_test , y_train, y_test = train_test_split(\n",
    "    cancer.data, cancer.target, stratify = cancer.target, random_state = 42)\n",
    "\n",
    "#max_depth를 제한하여 일반화 성능을 올리기\n",
    "tree = DecisionTreeClassifier(max_depth=4,random_state=0)\n",
    "tree.fit(x_train,y_train)\n",
    "\n",
    "export_graphviz(tree, out_file = \"tree.dot\",class_names=[\"positive\",\"negative\"], feature_name =cancer.feature_names,\\\n",
    "                impurity=False,filled=True)\n",
    "\n",
    "with open(\"tree.dot\") as f:\n",
    "    dot_graph = f.read()\n",
    "display(graphviz.Source(dot_graph))"
   ]
  },
  {
   "cell_type": "markdown",
   "metadata": {},
   "source": [
    "# Feature importance 트리의 특성 중요도\n",
    "트리 자체를 시각화 하기엔 너무 복잡하고 보기 어려움. -> 트리가 어떻게 동작하는지 요약하는 속성들을 사용 \n",
    "\n",
    "#### feature importance 특성 중요도 : 값이 0~1사이의 숫자로 0에 가까울 수록 사용하지 않은 특성 1일 수록 타깃 클래스를 잘 예측함을 의미\n"
   ]
  },
  {
   "cell_type": "code",
   "execution_count": 3,
   "metadata": {},
   "outputs": [
    {
     "name": "stdout",
     "output_type": "stream",
     "text": [
      "feature importance : \n",
      "[0.         0.         0.         0.         0.         0.\n",
      " 0.         0.         0.         0.         0.01019737 0.04839825\n",
      " 0.         0.         0.0024156  0.         0.         0.\n",
      " 0.         0.         0.72682851 0.0458159  0.         0.\n",
      " 0.0141577  0.         0.018188   0.1221132  0.01188548 0.        ]\n"
     ]
    },
    {
     "data": {
      "text/plain": [
       "(-1, 30)"
      ]
     },
     "execution_count": 3,
     "metadata": {},
     "output_type": "execute_result"
    },
    {
     "data": {
      "image/png": "[encoded data removed]",
      "text/plain": [
       "<Figure size 432x288 with 1 Axes>"
      ]
     },
     "metadata": {
      "needs_background": "light"
     },
     "output_type": "display_data"
    }
   ],
   "source": [
    "import mglearn\n",
    "import matplotlib.pyplot as plt\n",
    "import numpy as np\n",
    "from sklearn.model_selection import train_test_split\n",
    "from sklearn.datasets import load_breast_cancer\n",
    "from sklearn.tree import DecisionTreeClassifier\n",
    "\n",
    "cancer = load_breast_cancer()\n",
    "x_train, x_test , y_train, y_test = train_test_split(\n",
    "    cancer.data, cancer.target, stratify = cancer.target, random_state = 42)\n",
    "\n",
    "#max_depth를 제한하여 일반화 성능을 올리기\n",
    "tree = DecisionTreeClassifier(max_depth=4,random_state=0)\n",
    "tree.fit(x_train,y_train)\n",
    "\n",
    "#feature importance value의 총 합은 1이다.\n",
    "print(\"feature importance : \\n{}\".format(tree.feature_importances_))\n",
    "\n",
    "n_features = cancer.data.shape[1]\n",
    "plt.barh(range(n_features), tree.feature_importances_,align='center')\n",
    "plt.yticks(np.arange(n_features),cancer.feature_names)\n",
    "plt.xlabel(\"feature impotance\")\n",
    "plt.ylabel(\"feature\")\n",
    "plt.ylim(-1,n_features)\n"
   ]
  }
 ],
 "metadata": {
  "kernelspec": {
   "display_name": "Python 3",
   "language": "python",
   "name": "python3"
  },
  "language_info": {
   "codemirror_mode": {
    "name": "ipython",
    "version": 3
   },
   "file_extension": ".py",
   "mimetype": "text/x-python",
   "name": "python",
   "nbconvert_exporter": "python",
   "pygments_lexer": "ipython3",
   "version": "3.6.5"
  }
 },
 "nbformat": 4,
 "nbformat_minor": 2
}
