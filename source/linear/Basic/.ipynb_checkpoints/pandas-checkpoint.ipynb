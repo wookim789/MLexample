{
 "cells": [
  {
   "cell_type": "code",
   "execution_count": 4,
   "metadata": {},
   "outputs": [
    {
     "data": {
      "text/html": [
       "<div>\n",
       "<style scoped>\n",
       "    .dataframe tbody tr th:only-of-type {\n",
       "        vertical-align: middle;\n",
       "    }\n",
       "\n",
       "    .dataframe tbody tr th {\n",
       "        vertical-align: top;\n",
       "    }\n",
       "\n",
       "    .dataframe thead th {\n",
       "        text-align: right;\n",
       "    }\n",
       "</style>\n",
       "<table border=\"1\" class=\"dataframe\">\n",
       "  <thead>\n",
       "    <tr style=\"text-align: right;\">\n",
       "      <th></th>\n",
       "      <th>age</th>\n",
       "      <th>location</th>\n",
       "      <th>name</th>\n",
       "    </tr>\n",
       "  </thead>\n",
       "  <tbody>\n",
       "    <tr>\n",
       "      <th>0</th>\n",
       "      <td>24</td>\n",
       "      <td>new york</td>\n",
       "      <td>john</td>\n",
       "    </tr>\n",
       "    <tr>\n",
       "      <th>1</th>\n",
       "      <td>13</td>\n",
       "      <td>paris</td>\n",
       "      <td>anna</td>\n",
       "    </tr>\n",
       "    <tr>\n",
       "      <th>2</th>\n",
       "      <td>53</td>\n",
       "      <td>berlin</td>\n",
       "      <td>peter</td>\n",
       "    </tr>\n",
       "    <tr>\n",
       "      <th>3</th>\n",
       "      <td>33</td>\n",
       "      <td>london</td>\n",
       "      <td>linda</td>\n",
       "    </tr>\n",
       "  </tbody>\n",
       "</table>\n",
       "</div>"
      ],
      "text/plain": [
       "   age  location   name\n",
       "0   24  new york   john\n",
       "1   13     paris   anna\n",
       "2   53    berlin  peter\n",
       "3   33    london  linda"
      ]
     },
     "metadata": {},
     "output_type": "display_data"
    }
   ],
   "source": [
    "#pandas의 dataFrame은 엑셀의 스프레드시트와 비슷한 테이블 형태\n",
    "#sql처럼 테이블에 쿼리나 조인을 수행할 수 있음\n",
    "#pandas는 전체 배열의 원소가 동일한 타입이어야 하는 numpy와 달리 각 열의 데이터 타입이 달라도 됨\n",
    "#sql, 엑셀, csv 파일 같은 다양한 파일과 데이터베이스에서 데이터를 읽어 들일 수 있음\n",
    "\n",
    "import pandas as pd\n",
    "\n",
    "data = {'name' :  [\"john\",\"anna\",\"peter\",\"linda\"],\n",
    "        'location' : [\"new york\", \"paris\", \"berlin\", \"london\"],\n",
    "        'age' : [24,13,53,33]\n",
    "       }\n",
    "data_pandas = pd.DataFrame(data)\n",
    "\n",
    "#주피터가 제공하는 데이터 프레임 출력 메소드\n",
    "display(data_pandas)"
   ]
  },
  {
   "cell_type": "code",
   "execution_count": null,
   "metadata": {},
   "outputs": [],
   "source": [
    "#padas sql 사용 예\n",
    "display(data_pandas[data_pandas.age>30])"
   ]
  }
 ],
 "metadata": {
  "kernelspec": {
   "display_name": "Python 3",
   "language": "python",
   "name": "python3"
  },
  "language_info": {
   "codemirror_mode": {
    "name": "ipython",
    "version": 3
   },
   "file_extension": ".py",
   "mimetype": "text/x-python",
   "name": "python",
   "nbconvert_exporter": "python",
   "pygments_lexer": "ipython3",
   "version": "3.6.5"
  }
 },
 "nbformat": 4,
 "nbformat_minor": 2
}
