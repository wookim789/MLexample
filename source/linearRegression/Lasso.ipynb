{
 "cells": [
  {
   "cell_type": "code",
   "execution_count": 4,
   "metadata": {},
   "outputs": [
    {
     "name": "stdout",
     "output_type": "stream",
     "text": [
      "train set score : 0.29\n",
      "test set score : 0.209375\n",
      "use feature number : 4\n"
     ]
    }
   ],
   "source": [
    "#lasso -> ridge와 비슷한 맥락이나 차이점은 많은 W * x 중 w를 0으로 만들어 feature를 지운다. -> 모델에 영향을 가하는 feature 지우기\n",
    "import mglearn\n",
    "import matplotlib.pyplot as plt\n",
    "import numpy as np\n",
    "from sklearn.model_selection import train_test_split\n",
    "from sklearn.linear_model import Lasso\n",
    "\n",
    "x,y = mglearn.datasets.load_extended_boston()\n",
    "x_train, x_test, y_train, y_test = train_test_split(x, y, random_state=0)\n",
    "\n",
    "lasso = Lasso().fit(x_train,y_train)\n",
    "print(\"train set score : {:.2f}\".format(lasso.score(x_train,y_train)))\n",
    "print(\"test set score : {:2f}\".format(lasso.score(x_test,y_test)))\n",
    "print(\"use feature number : {}\".format(np.sum(lasso.coef_!=0)))\n"
   ]
  },
  {
   "cell_type": "code",
   "execution_count": 5,
   "metadata": {},
   "outputs": [
    {
     "name": "stdout",
     "output_type": "stream",
     "text": [
      "train set score : 0.90\n",
      "test set score : 0.765649\n",
      "use feature number : 33\n"
     ]
    }
   ],
   "source": [
    "#t성능이 좋지 않은 lasso를 좋게 하기 위해선 alpha 값과 max_iter(반복 실행하는 최대 횟수)를 증가시킨다\n",
    "import mglearn\n",
    "import matplotlib.pyplot as plt\n",
    "import numpy as np\n",
    "from sklearn.model_selection import train_test_split\n",
    "from sklearn.linear_model import Lasso\n",
    "\n",
    "x,y = mglearn.datasets.load_extended_boston()\n",
    "x_train, x_test, y_train, y_test = train_test_split(x, y, random_state=0)\n",
    "\n",
    "lasso = Lasso(alpha=0.01, max_iter=100000).fit(x_train,y_train)\n",
    "print(\"train set score : {:.2f}\".format(lasso.score(x_train,y_train)))\n",
    "print(\"test set score : {:2f}\".format(lasso.score(x_test,y_test)))\n",
    "print(\"use feature number : {}\".format(np.sum(lasso.coef_!=0)))"
   ]
  }
 ],
 "metadata": {
  "kernelspec": {
   "display_name": "Python 3",
   "language": "python",
   "name": "python3"
  },
  "language_info": {
   "codemirror_mode": {
    "name": "ipython",
    "version": 3
   },
   "file_extension": ".py",
   "mimetype": "text/x-python",
   "name": "python",
   "nbconvert_exporter": "python",
   "pygments_lexer": "ipython3",
   "version": "3.6.5"
  }
 },
 "nbformat": 4,
 "nbformat_minor": 2
}
